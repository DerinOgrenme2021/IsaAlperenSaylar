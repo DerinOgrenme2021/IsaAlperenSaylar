{
  "nbformat": 4,
  "nbformat_minor": 0,
  "metadata": {
    "colab": {
      "name": "Classification.ipynb",
      "provenance": [],
      "authorship_tag": "ABX9TyOY0cmLVFkCFYBVrJLk257o",
      "include_colab_link": true
    },
    "kernelspec": {
      "name": "python3",
      "display_name": "Python 3"
    },
    "language_info": {
      "name": "python"
    }
  },
  "cells": [
    {
      "cell_type": "markdown",
      "metadata": {
        "id": "view-in-github",
        "colab_type": "text"
      },
      "source": [
        "<a href=\"https://colab.research.google.com/github/DerinOgrenme2021/IsaAlperenSaylar/blob/main/Classification.ipynb\" target=\"_parent\"><img src=\"https://colab.research.google.com/assets/colab-badge.svg\" alt=\"Open In Colab\"/></a>"
      ]
    },
    {
      "cell_type": "code",
      "metadata": {
        "id": "FrA4YRvOdNNF"
      },
      "source": [
        "from sklearn.datasets import load_iris\n",
        "from sklearn.model_selection import train_test_split\n",
        "from sklearn.naive_bayes import GaussianNB\n",
        "\n",
        "X, y = load_iris(return_X_y=True)\n",
        "X_train,X_test, y_train , y_test = train_test_split(X,y,test_size=0.2)"
      ],
      "execution_count": 3,
      "outputs": []
    },
    {
      "cell_type": "code",
      "metadata": {
        "colab": {
          "base_uri": "https://localhost:8080/"
        },
        "id": "ElFFiCyddTMf",
        "outputId": "cb1ac032-4142-43e6-cfd3-7d9051a7966c"
      },
      "source": [
        "gnb = GaussianNB()\n",
        "gnb.fit(X_train, y_train)"
      ],
      "execution_count": 4,
      "outputs": [
        {
          "output_type": "execute_result",
          "data": {
            "text/plain": [
              "GaussianNB(priors=None, var_smoothing=1e-09)"
            ]
          },
          "metadata": {
            "tags": []
          },
          "execution_count": 4
        }
      ]
    },
    {
      "cell_type": "code",
      "metadata": {
        "colab": {
          "base_uri": "https://localhost:8080/"
        },
        "id": "0pYSmM2rdUa-",
        "outputId": "fbef4008-99d7-4706-8727-e94f0d3dc4c9"
      },
      "source": [
        "\n",
        "y_predict = gnb.predict(X_test)\n",
        "y_predict"
      ],
      "execution_count": 5,
      "outputs": [
        {
          "output_type": "execute_result",
          "data": {
            "text/plain": [
              "array([1, 2, 1, 1, 1, 2, 2, 0, 1, 2, 2, 1, 2, 1, 1, 2, 0, 2, 2, 2, 2, 1,\n",
              "       0, 0, 1, 2, 2, 0, 0, 2])"
            ]
          },
          "metadata": {
            "tags": []
          },
          "execution_count": 5
        }
      ]
    },
    {
      "cell_type": "code",
      "metadata": {
        "colab": {
          "base_uri": "https://localhost:8080/"
        },
        "id": "UDatEXKBdWNy",
        "outputId": "cd836696-0a48-488d-f0ec-a99717f87a89"
      },
      "source": [
        "y_test"
      ],
      "execution_count": 6,
      "outputs": [
        {
          "output_type": "execute_result",
          "data": {
            "text/plain": [
              "array([1, 2, 1, 1, 1, 2, 2, 0, 1, 1, 2, 1, 2, 1, 1, 2, 0, 2, 2, 1, 2, 1,\n",
              "       0, 0, 1, 2, 2, 0, 0, 2])"
            ]
          },
          "metadata": {
            "tags": []
          },
          "execution_count": 6
        }
      ]
    },
    {
      "cell_type": "code",
      "metadata": {
        "colab": {
          "base_uri": "https://localhost:8080/"
        },
        "id": "AufPcIsQdXnK",
        "outputId": "133bb3f3-4d99-4cf1-ddcc-a60ad1209d1d"
      },
      "source": [
        "from sklearn.metrics import accuracy_score, precision_score\n",
        "\n",
        "accuracy_score(y_test,y_predict)\n",
        "precision_score(y_test,y_predict, average=None)"
      ],
      "execution_count": 7,
      "outputs": [
        {
          "output_type": "execute_result",
          "data": {
            "text/plain": [
              "array([1.        , 1.        , 0.85714286])"
            ]
          },
          "metadata": {
            "tags": []
          },
          "execution_count": 7
        }
      ]
    },
    {
      "cell_type": "code",
      "metadata": {
        "id": "sOxq-U07dZDi"
      },
      "source": [
        "from sklearn import tree\n",
        "dtc = tree.DecisionTreeClassifier()\n",
        "dtc.fit(X_train, y_train)\n",
        "y_predict = dtc.predict(X_test)"
      ],
      "execution_count": 10,
      "outputs": []
    },
    {
      "cell_type": "code",
      "metadata": {
        "colab": {
          "base_uri": "https://localhost:8080/"
        },
        "id": "-OF4bau6ddZ-",
        "outputId": "098bdc85-648c-4251-f704-492529fe065c"
      },
      "source": [
        "y_predict"
      ],
      "execution_count": 11,
      "outputs": [
        {
          "output_type": "execute_result",
          "data": {
            "text/plain": [
              "array([1, 2, 1, 1, 1, 2, 2, 0, 1, 2, 2, 1, 2, 1, 1, 2, 0, 2, 2, 2, 2, 1,\n",
              "       0, 0, 1, 2, 2, 0, 0, 2])"
            ]
          },
          "metadata": {
            "tags": []
          },
          "execution_count": 11
        }
      ]
    },
    {
      "cell_type": "code",
      "metadata": {
        "colab": {
          "base_uri": "https://localhost:8080/"
        },
        "id": "XXpp7VqFdfuX",
        "outputId": "e1c072fb-7214-41a8-d57c-1c0d955c7c92"
      },
      "source": [
        "y_test"
      ],
      "execution_count": 12,
      "outputs": [
        {
          "output_type": "execute_result",
          "data": {
            "text/plain": [
              "array([1, 2, 1, 1, 1, 2, 2, 0, 1, 1, 2, 1, 2, 1, 1, 2, 0, 2, 2, 1, 2, 1,\n",
              "       0, 0, 1, 2, 2, 0, 0, 2])"
            ]
          },
          "metadata": {
            "tags": []
          },
          "execution_count": 12
        }
      ]
    },
    {
      "cell_type": "code",
      "metadata": {
        "id": "nBKYdXlmdgrW"
      },
      "source": [
        ""
      ],
      "execution_count": 12,
      "outputs": []
    },
    {
      "cell_type": "code",
      "metadata": {
        "colab": {
          "base_uri": "https://localhost:8080/"
        },
        "id": "8RS8RH7Mdhxd",
        "outputId": "c155c60c-ecb2-4c5f-d483-48647acd38ef"
      },
      "source": [
        "from sklearn.metrics import accuracy_score, precision_score\n",
        "\n",
        "accuracy_score(y_test,y_predict)\n",
        "precision_score(y_test,y_predict, average=None)"
      ],
      "execution_count": 13,
      "outputs": [
        {
          "output_type": "execute_result",
          "data": {
            "text/plain": [
              "array([1.        , 1.        , 0.85714286])"
            ]
          },
          "metadata": {
            "tags": []
          },
          "execution_count": 13
        }
      ]
    },
    {
      "cell_type": "code",
      "metadata": {
        "id": "AQctM-Tfdi-j"
      },
      "source": [
        "from sklearn.neighbors import NearestCentroid\n",
        "\n",
        "nn = NearestCentroid()\n",
        "nn.fit(X_train, y_train)\n",
        "y_predict = nn.predict(X_test)"
      ],
      "execution_count": 14,
      "outputs": []
    },
    {
      "cell_type": "code",
      "metadata": {
        "colab": {
          "base_uri": "https://localhost:8080/"
        },
        "id": "sB7iJlIudmp7",
        "outputId": "25fab44c-2dfa-4cb6-9cf4-f055150300ee"
      },
      "source": [
        "from sklearn.metrics import accuracy_score, precision_score\n",
        "\n",
        "accuracy_score(y_test,y_predict)\n",
        "#precision_score(y_test,y_predict, average=None)"
      ],
      "execution_count": 15,
      "outputs": [
        {
          "output_type": "execute_result",
          "data": {
            "text/plain": [
              "0.9333333333333333"
            ]
          },
          "metadata": {
            "tags": []
          },
          "execution_count": 15
        }
      ]
    },
    {
      "cell_type": "code",
      "metadata": {
        "colab": {
          "base_uri": "https://localhost:8080/"
        },
        "id": "1momJ7YKdn4K",
        "outputId": "36700b0d-df99-4721-bc39-06ff0fb8e65e"
      },
      "source": [
        "y_predict"
      ],
      "execution_count": 16,
      "outputs": [
        {
          "output_type": "execute_result",
          "data": {
            "text/plain": [
              "array([1, 2, 1, 1, 1, 2, 2, 0, 1, 1, 2, 1, 2, 1, 1, 2, 0, 2, 2, 2, 2, 1,\n",
              "       0, 0, 2, 2, 2, 0, 0, 2])"
            ]
          },
          "metadata": {
            "tags": []
          },
          "execution_count": 16
        }
      ]
    },
    {
      "cell_type": "code",
      "metadata": {
        "colab": {
          "base_uri": "https://localhost:8080/"
        },
        "id": "vpMaC2fRdpbH",
        "outputId": "ad24b6e2-38fc-45a6-92d7-3df2de75ec25"
      },
      "source": [
        "y_test"
      ],
      "execution_count": 17,
      "outputs": [
        {
          "output_type": "execute_result",
          "data": {
            "text/plain": [
              "array([1, 2, 1, 1, 1, 2, 2, 0, 1, 1, 2, 1, 2, 1, 1, 2, 0, 2, 2, 1, 2, 1,\n",
              "       0, 0, 1, 2, 2, 0, 0, 2])"
            ]
          },
          "metadata": {
            "tags": []
          },
          "execution_count": 17
        }
      ]
    },
    {
      "cell_type": "code",
      "metadata": {
        "id": "fELzzIOhdqr6"
      },
      "source": [
        "from sklearn.neural_network import MLPClassifier\n",
        "mlp = MLPClassifier()"
      ],
      "execution_count": 21,
      "outputs": []
    },
    {
      "cell_type": "code",
      "metadata": {
        "colab": {
          "base_uri": "https://localhost:8080/"
        },
        "id": "59PkwcfKdsmW",
        "outputId": "8a0ae80b-5795-4849-fe87-cdaa44d650b6"
      },
      "source": [
        "mlp.fit(X_train, y_train)\n",
        "y_predict = mlp.predict(X_test)"
      ],
      "execution_count": 19,
      "outputs": [
        {
          "output_type": "stream",
          "text": [
            "/usr/local/lib/python3.7/dist-packages/sklearn/neural_network/_multilayer_perceptron.py:571: ConvergenceWarning: Stochastic Optimizer: Maximum iterations (200) reached and the optimization hasn't converged yet.\n",
            "  % self.max_iter, ConvergenceWarning)\n"
          ],
          "name": "stderr"
        }
      ]
    },
    {
      "cell_type": "code",
      "metadata": {
        "colab": {
          "base_uri": "https://localhost:8080/"
        },
        "id": "5JcbYq2Zdt0Y",
        "outputId": "faa7ea04-57ed-47eb-9769-cea34416fcbb"
      },
      "source": [
        "from sklearn.metrics import accuracy_score, precision_score\n",
        "\n",
        "accuracy_score(y_test,y_predict)"
      ],
      "execution_count": 20,
      "outputs": [
        {
          "output_type": "execute_result",
          "data": {
            "text/plain": [
              "0.9666666666666667"
            ]
          },
          "metadata": {
            "tags": []
          },
          "execution_count": 20
        }
      ]
    }
  ]
}