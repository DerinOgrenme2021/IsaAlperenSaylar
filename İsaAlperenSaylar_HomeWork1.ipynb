{
  "nbformat": 4,
  "nbformat_minor": 0,
  "metadata": {
    "colab": {
      "name": "İsaAlperenSaylar_HomeWork1.ipynb",
      "provenance": [],
      "collapsed_sections": [],
      "authorship_tag": "ABX9TyMexSOIwRPbNUsLlnSL2GsX",
      "include_colab_link": true
    },
    "kernelspec": {
      "name": "python3",
      "display_name": "Python 3"
    },
    "language_info": {
      "name": "python"
    }
  },
  "cells": [
    {
      "cell_type": "markdown",
      "metadata": {
        "id": "view-in-github",
        "colab_type": "text"
      },
      "source": [
        "<a href=\"https://colab.research.google.com/github/DerinOgrenme2021/IsaAlperenSaylar/blob/main/%C4%B0saAlperenSaylar_HomeWork1.ipynb\" target=\"_parent\"><img src=\"https://colab.research.google.com/assets/colab-badge.svg\" alt=\"Open In Colab\"/></a>"
      ]
    },
    {
      "cell_type": "code",
      "metadata": {
        "id": "Ekgb_caEinwJ"
      },
      "source": [
        "import numpy as np\n",
        "from skimage import io\n",
        "import os\n",
        "import matplotlib.pyplot as plt\n",
        "\n",
        "filenames = os.listdir('./Images/Colin_Powell')\n",
        "float_images = list()\n",
        "\n",
        "for filename in filenames:\n",
        "    image = io.imread('./Images/Colin_Powell/' + filename)\n",
        "    float_image = image.astype(\"float\")\n",
        "    float_images.append(float_image)\n",
        "    \n",
        "result = np.zeros((250,250,3), dtype = np.float64)\n",
        "\n",
        "for float_img in float_images:\n",
        "  result=result+float_img\n",
        "\n",
        "result/=100\n",
        "io.imsave(\"New_Image.jpg\",result)\n",
        "io.imshow(\"New_Image.jpg\")\n",
        "\n"
      ],
      "execution_count": null,
      "outputs": []
    },
    {
      "cell_type": "code",
      "metadata": {
        "id": "a8DKunymjFgo"
      },
      "source": [
        ""
      ],
      "execution_count": null,
      "outputs": []
    },
    {
      "cell_type": "markdown",
      "metadata": {
        "id": "3TDQcUi5i54p"
      },
      "source": [
        ""
      ]
    }
  ]
}